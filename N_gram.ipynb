{
  "cells": [
    {
      "cell_type": "markdown",
      "metadata": {
        "id": "cD9ZRNeIJ_Br"
      },
      "source": [
        "# Download and Process the IMDB Dataset"
      ]
    },
    {
      "cell_type": "code",
      "execution_count": 39,
      "metadata": {
        "id": "siDkX864cazJ"
      },
      "outputs": [],
      "source": [
        "import os\n",
        "import re\n",
        "import string\n",
        "import random\n",
        "from collections import defaultdict, Counter\n",
        "import math\n",
        "from math import log, exp\n"
      ]
    },
    {
      "cell_type": "code",
      "execution_count": 40,
      "metadata": {},
      "outputs": [],
      "source": [
        "# for file in os.listdir(\"imdb_data/train/unsup\"):\n",
        "#     print(file)\n",
        "#     text = open(os.path.join(\"imdb_data/train/unsup\",file),\"r\")\n",
        "#     for i in text.readlines():\n",
        "#         for j in i.split(\".\"):\n",
        "#             print(j)\n",
        "#     break"
      ]
    },
    {
      "cell_type": "code",
      "execution_count": 41,
      "metadata": {
        "id": "G1K-8ybJJ3Cl"
      },
      "outputs": [],
      "source": [
        "\n",
        "def load_imdb_unsup_sentences(folder_path):\n",
        "    \"\"\"\n",
        "    Loads text files from the IMDB 'unsup' (unsupervised) folder.\n",
        "    split text by newline, strips text, and returns a list of raw lines.\n",
        "    replace <br /> tags with special token <nl> token.\n",
        "    \"\"\"\n",
        "    all_sentences = []\n",
        "    for file in os.listdir(folder_path):\n",
        "        text = open(os.path.join(folder_path,file),\"r\",encoding=\"utf-8\")\n",
        "        for line in text.readlines():\n",
        "            all_sentences.append(line.replace(\"<br /><br />\",\" <nl> \").strip())\n",
        "         \n",
        "    return all_sentences\n",
        "\n",
        "def remove_punctuation(text):\n",
        "    \"\"\"\n",
        "    Removes punctuation from the text,\n",
        "    but keeps <nl> tokens intact.\n",
        "    \"\"\"\n",
        "    text = text.replace(\" <nl> \", \" xnl \")  # Temporarily separate <nl> to preserve it\n",
        "    text = text.translate(str.maketrans('', '', string.punctuation))\n",
        "    text = text.replace(\" xnl \", \" <nl> \")  # Restore <nl> in its place\n",
        "    return text\n",
        "\n",
        "def build_vocabulary(sentences):\n",
        "    \"\"\"\n",
        "    lower each sentence,\n",
        "    Splits each sentence on whitespace, removes punctuation,\n",
        "    and builds a set of unique tokens (vocabulary).\n",
        "    \"\"\"\n",
        "    vocab = set()\n",
        "    sentence:str\n",
        "    for sentence in sentences:\n",
        "        sentence = remove_punctuation(sentence).lower()\n",
        "        for word in sentence.split():\n",
        "            if word != \"<nl>\":\n",
        "                # print(\"fdssfsdfsdfsdfsdf\")\n",
        "                vocab.add(word)\n",
        "        \n",
        "    return vocab\n",
        "\n",
        "def tokinize(sentences, vocab, unknown=\"<UNK>\"):\n",
        "    \"\"\"\n",
        "    lower each sentence,\n",
        "    Splits each sentence on whitespace, removes punctuation,\n",
        "    and replaces tokens not in the vocabulary with unknowen token.\n",
        "    Returns the list of tokenized sentences.\n",
        "    \"\"\"\n",
        "    tokenized_sentences = []\n",
        "    sentence:str\n",
        "    for sentence in sentences:\n",
        "        sentence = remove_punctuation(sentence).lower()\n",
        "        for word in sentence.split():\n",
        "            if word not in vocab and word != \"<nl>\":\n",
        "                sentence.replace(word,unknown)\n",
        "        tokenized_sentences.append(sentence.split())\n",
        "\n",
        "    return tokenized_sentences"
      ]
    },
    {
      "cell_type": "code",
      "execution_count": 42,
      "metadata": {
        "colab": {
          "base_uri": "https://localhost:8080/"
        },
        "id": "Y-5469mMKcRP",
        "outputId": "736ae7a1-6af4-409e-bb63-6f584154654e"
      },
      "outputs": [
        {
          "name": "stdout",
          "output_type": "stream",
          "text": [
            "Number of raw sentences loaded: 50000\n",
            "Example (first 2 sentences):\n",
            "['I admit, the great majority of films released before say 1933 are just not for me. Of the dozen or so \"major\" silents I have viewed, one I loved (The Crowd), and two were very good (The Last Command and City Lights, that latter Chaplin circa 1931). <nl> So I was apprehensive about this one, and humor is often difficult to appreciate (uh, enjoy) decades later. I did like the lead actors, but thought little of the film. <nl> One intriguing sequence. Early on, the guys are supposed to get \"de-loused\" and for about three minutes, fully dressed, do some schtick. In the background, perhaps three dozen men pass by, all naked, white and black (WWI ?), and for most, their butts, part or full backside, are shown. Was this an early variation of beefcake courtesy of Howard Hughes?']\n"
          ]
        }
      ],
      "source": [
        "#imdb_folder = \"imdb_data/train/unsup\"\n",
        "imdb_folder = \"S:/imdb_data/train/unsup\"\n",
        "\n",
        "sentences = load_imdb_unsup_sentences(imdb_folder)\n",
        "\n",
        "print(f\"Number of raw sentences loaded: {len(sentences)}\")\n",
        "print(f\"Example (first 2 sentences):\\n{sentences[:1]}\")\n"
      ]
    },
    {
      "cell_type": "code",
      "execution_count": 43,
      "metadata": {
        "id": "Qv0J6dGhIidP"
      },
      "outputs": [],
      "source": [
        "assert len(sentences) == 50000, \"Expected 50,000 sentences from the unsup folder.\""
      ]
    },
    {
      "cell_type": "code",
      "execution_count": 44,
      "metadata": {
        "id": "9hA3B8WEKAF_"
      },
      "outputs": [],
      "source": [
        "random.seed(42)\n",
        "\n",
        "def split_data(sentences, test_split=0.1):\n",
        "    \"\"\"\n",
        "      shuffle the sentences\n",
        "      split them into train and test sets (first 1-test_split of the data is the training)\n",
        "      return the train and test sets\n",
        "    \"\"\"\n",
        "    random.shuffle(sentences)\n",
        "    train_split_length = int(len(sentences)*(1-test_split))\n",
        "    train_sentences, test_sentences = sentences[:train_split_length],sentences[train_split_length:]\n",
        "    \n",
        "    return train_sentences, test_sentences\n"
      ]
    },
    {
      "cell_type": "code",
      "execution_count": 45,
      "metadata": {
        "colab": {
          "base_uri": "https://localhost:8080/"
        },
        "id": "MfYWg45aKNzP",
        "outputId": "5c2b987e-6566-4dcb-9d52-e9654148797e"
      },
      "outputs": [
        {
          "name": "stdout",
          "output_type": "stream",
          "text": [
            "Number of training sentences: 45000\n",
            "Number of test sentences: 5000\n"
          ]
        }
      ],
      "source": [
        "train_sentences, test_sentences = split_data(sentences)\n",
        "\n",
        "print(f\"Number of training sentences: {len(train_sentences)}\")\n",
        "print(f\"Number of test sentences: {len(test_sentences)}\")"
      ]
    },
    {
      "cell_type": "code",
      "execution_count": 46,
      "metadata": {
        "id": "i9Hh9ptkKS6Y"
      },
      "outputs": [],
      "source": [
        "assert len(train_sentences) == 45000, \"Expected 45,000 sentences for training.\"\n",
        "assert len(test_sentences) == 5000, \"Expected 5,000 sentences for testing.\"\n"
      ]
    },
    {
      "cell_type": "code",
      "execution_count": 47,
      "metadata": {
        "colab": {
          "base_uri": "https://localhost:8080/"
        },
        "id": "ZI_q9qARKw_u",
        "outputId": "3ce46403-5f41-464d-9907-9b1bd9de6bcf"
      },
      "outputs": [
        {
          "name": "stdout",
          "output_type": "stream",
          "text": [
            "Vocabulary size: 161292\n",
            "Example tokens from first sentence: ['having', 'first', 'seen', 'the', 'directors', '12min', 'take', 'on', 'poes', 'fall', 'of', 'the', 'house', 'of', 'usher', 'i', 'was', 'looking', 'forward', 'to', 'seeing', 'this', 'one', 'too', 'and', 'wasnt', 'disappointed', 'at', 'all', 'though', 'perhaps', 'not', 'quite', 'up', 'to', 'the', 'same', 'level', 'of', 'artistic', 'attainment', 'as', 'usher', 'it', 'is', 'nevertheless', 'very', 'much', 'in', 'the', 'same', 'vein', '<nl>', 'like', 'the', 'usher', 'the', 'viewer', 'should', 'be', 'familiar', 'beforehand', 'with', 'the', 'story', 'on', 'which', 'it', 'is', 'based', 'in', '1928', 'the', 'directors', 'watson', 'and', 'webber', 'could', 'have', 'safely', 'assumed', 'the', 'audiences', 'knowledge', 'of', 'the', 'biblical', 'tale', 'interestingly', 'apart'] ...\n"
          ]
        }
      ],
      "source": [
        "vocab = build_vocabulary(train_sentences)\n",
        "tokenized_sentences = tokinize(train_sentences, vocab)\n",
        "\n",
        "print(f\"Vocabulary size: {len(vocab)}\")\n",
        "print(f\"Example tokens from first sentence: {tokenized_sentences[0][:90] if tokenized_sentences else 'No tokens loaded'} ...\")\n",
        "\n",
        "# for word in vocab:\n",
        "#     if word == \"nl\":\n",
        "#         print(\"fdssfsdfsdfsdfsdf\")\n"
      ]
    },
    {
      "cell_type": "code",
      "execution_count": 48,
      "metadata": {
        "id": "9lbynIF5K6xJ"
      },
      "outputs": [],
      "source": [
        "assert len(vocab) == 161292, \"Expected a vocabulary size of 171,591.\"\n",
        "assert len(tokenized_sentences) == 45000, \"Expected tokenized sentences count to match raw sentences.\"\n",
        "\n",
        "example = \"I love Natural language processing, and i want to be a great engineer.\"\n",
        "assert len(example) == 70, \"Example sentence length (in characters) does not match the expected 70.\"\n",
        "\n",
        "example_tokens = tokinize([example], vocab)[0]\n",
        "\n",
        "assert len(example_tokens) == 13, \"Token count for the example sentence does not match the expected 13.\"\n"
      ]
    },
    {
      "cell_type": "code",
      "execution_count": 63,
      "metadata": {
        "id": "9bQ5K2ubNFhD"
      },
      "outputs": [],
      "source": [
        "\n",
        "def pad_sentence(tokens, n):\n",
        "    \"\"\"\n",
        "    Pads a list of tokens with <s> at the start (n-1 times)\n",
        "    and </s> at the end (once).\n",
        "    For example, if n=3, you add 2 <s> tokens at the start.\n",
        "    \"\"\"\n",
        "    #! Probably it should return a list not a string.\n",
        "    #! The provided code returns a string\n",
        "    padded = [\"<s>\"]*(n-1) + tokens + [\"</s>\"]\n",
        "    return padded\n",
        "\n",
        "def build_ngram_counts(tokenized_sentences, n,vocab):\n",
        "    \"\"\"\n",
        "    Builds n-gram counts and (n-1)-gram counts from the given tokenized sentences.\n",
        "    Each sentence is padded with <s> and </s>.\n",
        "\n",
        "    Args:\n",
        "        tokenized_sentences: list of lists, where each sub-list is a tokenized sentence.\n",
        "        n: the order of the n-gram (e.g., 2 for bigrams, 3 for trigrams).\n",
        "        vocab: set of known words. If provided, you can choose to handle out-of-vocab tokens.\n",
        "\n",
        "    Returns:\n",
        "        ngram_counts: Counter of n-grams (tuples of length n).\n",
        "        context_counts: Counter of (n-1)-gram contexts.\n",
        "    \"\"\"\n",
        "    ngram_counts = Counter()\n",
        "    context_counts = Counter()\n",
        "    for sentence in tokenized_sentences:\n",
        "        padded_sentence = pad_sentence(sentence,n)\n",
        "        \n",
        "        for i in range(len(padded_sentence) - n + 1):\n",
        "            ngram = tuple(padded_sentence[i:i + n])  \n",
        "            context = tuple(padded_sentence[i:i + n - 1]) \n",
        "            \n",
        "            # if \"<nl>\" in context:\n",
        "            #     continue\n",
        "\n",
        "            ngram_counts[ngram] += 1\n",
        "            context_counts[context] += 1\n",
        "        \n",
        "    return ngram_counts, context_counts\n",
        "\n",
        "def laplace_probability(ngram, ngram_counts, context_counts, vocab_size, alpha=1.0):\n",
        "    \"\"\"\n",
        "    Computes the probability of an n-gram using Laplace (add-alpha) smoothing.\n",
        "\n",
        "    P(w_i | w_{i-(n-1)}, ..., w_{i-1}) =\n",
        "        (count(ngram) + alpha) / (count(context) + alpha * vocab_size)\n",
        "\n",
        "    Args:\n",
        "        ngram: tuple of tokens representing the n-gram\n",
        "        ngram_counts: Counter of n-grams\n",
        "        context_counts: Counter of (n-1)-gram contexts\n",
        "        vocab_size: size of the vocabulary\n",
        "        alpha: smoothing parameter (1.0 = add-1 smoothing)\n",
        "\n",
        "    Returns:\n",
        "        Probability of the given n-gram.\n",
        "    \"\"\"\n",
        "    prob = 0.0\n",
        "    return prob\n",
        "\n",
        "\n"
      ]
    },
    {
      "cell_type": "code",
      "execution_count": null,
      "metadata": {},
      "outputs": [],
      "source": [
        "pad_sentence(tokenized_sentences[0],3)"
      ]
    },
    {
      "cell_type": "code",
      "execution_count": 62,
      "metadata": {
        "colab": {
          "base_uri": "https://localhost:8080/"
        },
        "id": "KgFRligyRx_8",
        "outputId": "0e6133ac-7d80-4597-a086-b85934d64416"
      },
      "outputs": [
        {
          "name": "stdout",
          "output_type": "stream",
          "text": [
            "Number of bigrams: 2273729\n",
            "Number of contexts: 161293\n"
          ]
        }
      ],
      "source": [
        "n = 2\n",
        "ngram_counts, context_counts = build_ngram_counts(tokenized_sentences, n=n, vocab=vocab)\n",
        "print(f\"Number of bigrams: {len(ngram_counts)}\")\n",
        "print(f\"Number of contexts: {len(context_counts)}\")\n",
        "\n",
        "# ngram_counts = {ngram: count for ngram, count in ngram_counts.items() if \"<nl>\" not in ngram}\n",
        "# context_counts = {context: count for context, count in context_counts.items() if \"<nl>\" not in context}\n",
        "\n",
        "\n",
        "# print(f\"Number of bigrams: {len(ngram_counts)}\")\n",
        "# print(f\"Number of contexts: {len(context_counts)}\")\n"
      ]
    },
    {
      "cell_type": "code",
      "execution_count": 61,
      "metadata": {},
      "outputs": [
        {
          "name": "stdout",
          "output_type": "stream",
          "text": [
            "Example bigrams: [(('<s>', 'having'), 137), (('having', 'first'), 4), (('first', 'seen'), 29), (('seen', 'the'), 1083), (('the', 'directors'), 561), (('directors', '12min'), 1), (('12min', 'take'), 1), (('take', 'on'), 355), (('on', 'poes'), 4), (('poes', 'fall'), 1), (('fall', 'of'), 82), (('of', 'the'), 70204), (('the', 'house'), 828), (('house', 'of'), 243), (('of', 'usher'), 8), (('usher', 'i'), 1), (('i', 'was'), 9589), (('was', 'looking'), 169), (('looking', 'forward'), 287), (('forward', 'to'), 545), (('to', 'seeing'), 200), (('seeing', 'this'), 536), (('this', 'one'), 5459), (('one', 'too'), 98), (('too', 'and'), 214), (('and', 'wasnt'), 56), (('wasnt', 'disappointed'), 39), (('disappointed', 'at'), 31), (('at', 'all'), 3558), (('all', 'though'), 47), (('though', 'perhaps'), 13), (('perhaps', 'not'), 61), (('not', 'quite'), 391), (('quite', 'up'), 20), (('up', 'to'), 2269), (('to', 'the'), 21791), (('the', 'same'), 6712), (('same', 'level'), 62), (('level', 'of'), 563), (('of', 'artistic'), 36), (('artistic', 'attainment'), 1), (('attainment', 'as'), 1), (('as', 'usher'), 1), (('usher', 'it'), 1), (('it', 'is'), 17825), (('is', 'nevertheless'), 30), (('nevertheless', 'very'), 5), (('very', 'much'), 781), (('much', 'in'), 287), (('in', 'the'), 45469), (('same', 'vein'), 38), (('like', 'the'), 4010), (('the', 'usher'), 7), (('usher', 'the'), 1), (('the', 'viewer'), 1554), (('viewer', 'should'), 10), (('should', 'be'), 2319), (('be', 'familiar'), 29), (('familiar', 'beforehand'), 1), (('beforehand', 'with'), 1), (('with', 'the'), 14570), (('the', 'story'), 9533), (('story', 'on'), 69), (('on', 'which'), 181), (('which', 'it'), 306), (('is', 'based'), 577), (('based', 'in'), 53), (('in', '1928'), 5), (('1928', 'the'), 2), (('directors', 'watson'), 1), (('watson', 'and'), 16), (('and', 'webber'), 1), (('webber', 'could'), 1), (('could', 'have'), 3603), (('have', 'safely'), 1), (('safely', 'assumed'), 1), (('assumed', 'the'), 10), (('the', 'audiences'), 158), (('audiences', 'knowledge'), 1), (('knowledge', 'of'), 202), (('the', 'biblical'), 27), (('biblical', 'tale'), 3), (('tale', 'interestingly'), 1), (('interestingly', 'apart'), 1), (('apart', 'from'), 572), (('from', 'the'), 11188), (('the', 'actual'), 507), (('actual', 'genesis'), 1), (('genesis', 'account'), 1), (('account', 'a'), 3), (('a', 'phrase'), 18), (('phrase', 'from'), 5), (('the', 'song'), 351), (('song', 'of'), 52), (('of', 'songs'), 40), (('songs', 'is'), 12), (('is', 'also'), 2178), (('also', 'used'), 37), (('used', 'when'), 8), (('when', 'lot'), 1), (('lot', 'is'), 26), (('is', 'offering'), 9), (('offering', 'his'), 4), (('his', 'daughters'), 35), (('daughters', 'to'), 10), (('the', 'mob'), 131), (('mob', 'outside'), 1), (('outside', 'desperately'), 1), (('desperately', 'trying'), 36), (('trying', 'to'), 4155), (('to', 'convince'), 210), (('convince', 'them'), 10), (('them', 'of'), 48), (('the', 'attractions'), 10), (('attractions', 'of'), 5), (('of', 'woman'), 13), (('woman', 'to'), 87), (('to', 'complain'), 49), (('complain', 'that'), 32), (('that', 'the'), 9461), (('the', 'film'), 22722), (('film', 'does'), 375), (('does', 'not'), 2258), (('not', 'present'), 22), (('present', 'the'), 54), (('the', 'plot'), 5581), (('plot', 'more'), 17), (('more', 'overtly'), 3), (('overtly', 'is'), 1), (('is', 'beside'), 8), (('beside', 'the'), 43), (('the', 'point'), 1335), (('point', 'and'), 166), (('and', 'almost'), 237), (('almost', 'a'), 151), (('a', 'declaration'), 2), (('declaration', 'of'), 12), (('of', 'ignorance'), 6), (('the', 'basics'), 33), (('basics', 'of'), 13), (('of', 'this'), 7745), (('this', 'tale'), 71), (('tale', 'for'), 11), (('for', 'those'), 1020), (('those', 'that'), 206), (('that', 'know'), 15), (('know', 'them'), 34), (('them', 'survive'), 4), (('survive', 'intact'), 2), (('intact', 'its'), 2)]\n",
            "Example contexts: [(('<s>',), 45000), (('having',), 4630), (('first',), 15994), (('seen',), 11534), (('the',), 607525), (('directors',), 1511), (('12min',), 1), (('take',), 6311), (('on',), 60103), (('poes',), 26), (('fall',), 1404), (('of',), 263623), (('house',), 3248), (('usher',), 31), (('i',), 133058)]\n"
          ]
        }
      ],
      "source": [
        "print(f\"Example bigrams: {list(ngram_counts.items())[:150]}\")\n",
        "print(f\"Example contexts: {list(context_counts.items())[:15]}\")"
      ]
    },
    {
      "cell_type": "code",
      "execution_count": 53,
      "metadata": {
        "colab": {
          "base_uri": "https://localhost:8080/"
        },
        "id": "1v4NzCsBMzTN",
        "outputId": "2aa3c438-e7de-457b-ef1e-f19ae1cd2b6f"
      },
      "outputs": [
        {
          "name": "stdout",
          "output_type": "stream",
          "text": [
            "Generated Sequence: []\n"
          ]
        }
      ],
      "source": [
        "from math import log, exp\n",
        "\n",
        "def predict_next_token(\n",
        "    context_tokens,\n",
        "    ngram_counts,\n",
        "    context_counts,\n",
        "    vocab,\n",
        "    n=2,\n",
        "    alpha=1.0,\n",
        "    top_k=5\n",
        "):\n",
        "    \"\"\"\n",
        "    Given a list of context tokens, predict the next token using the n-gram model.\n",
        "    Returns the top_k predictions as (token, probability).\n",
        "    \"\"\"\n",
        "\n",
        "    candidates = []\n",
        "\n",
        "    return candidates[:top_k]\n",
        "\n",
        "\n",
        "def generate_text_with_limit(\n",
        "    start_tokens,\n",
        "    ngram_counts,\n",
        "    context_counts,\n",
        "    vocab,\n",
        "    n=2,\n",
        "    alpha=1.0,\n",
        "    max_length=20\n",
        "):\n",
        "    \"\"\"\n",
        "    Generates text from an n-gram model until it sees </s>\n",
        "    or reaches a maximum total length (max_length).\n",
        "\n",
        "    Args:\n",
        "      start_tokens (list): initial context to begin generation\n",
        "      ngram_counts (Counter): trained n-gram counts\n",
        "      context_counts (Counter): trained (n-1)-gram counts\n",
        "      vocab (set): the model vocabulary\n",
        "      n (int): n-gram order, 2 for bigram, 3 for trigram, etc.\n",
        "      alpha (float): Laplace smoothing parameter\n",
        "      max_length (int): maximum number of tokens to generate (including start_tokens)\n",
        "\n",
        "    Returns:\n",
        "      A list of tokens representing the generated sequence.\n",
        "    \"\"\"\n",
        "    generated = []\n",
        "    return generated\n",
        "\n",
        "context = [\"i\", \"love\"]\n",
        "generated_seq = generate_text_with_limit(\n",
        "    start_tokens=context,\n",
        "    ngram_counts=ngram_counts,\n",
        "    context_counts=context_counts,\n",
        "    vocab=vocab,\n",
        "    n=2,\n",
        "    alpha=1.0,\n",
        "    max_length=128\n",
        ")\n",
        "\n",
        "print(\"Generated Sequence:\", generated_seq)\n"
      ]
    },
    {
      "cell_type": "code",
      "execution_count": 54,
      "metadata": {
        "id": "_LN_xGAcGPnt"
      },
      "outputs": [],
      "source": [
        "def calculate_perplexity(\n",
        "    tokenized_sentences,\n",
        "    ngram_counts,\n",
        "    context_counts,\n",
        "    vocab_size,\n",
        "    n=2,\n",
        "    alpha=1.0\n",
        "):\n",
        "    \"\"\"\n",
        "    Calculates the perplexity of an n-gram model (with Laplace smoothing)\n",
        "    on a list of tokenized sentences.\n",
        "\n",
        "    Args:\n",
        "      tokenized_sentences: List of lists of tokens.\n",
        "      ngram_counts: Counter of n-grams.\n",
        "      context_counts: Counter of (n-1)-grams.\n",
        "      vocab_size: Size of the vocabulary.\n",
        "      n: n-gram order.\n",
        "      alpha: Laplace smoothing parameter.\n",
        "\n",
        "    Returns:\n",
        "      A float representing the perplexity on the given dataset.\n",
        "    \"\"\"\n",
        "\n",
        "    perplexity = 0.0\n",
        "    return perplexity"
      ]
    },
    {
      "cell_type": "markdown",
      "metadata": {
        "id": "__ExBYFpgj30"
      },
      "source": [
        "# **Analysis**\n",
        "use different n and rerun the code and write down your analysis"
      ]
    }
  ],
  "metadata": {
    "colab": {
      "provenance": []
    },
    "kernelspec": {
      "display_name": "Python 3",
      "language": "python",
      "name": "python3"
    },
    "language_info": {
      "codemirror_mode": {
        "name": "ipython",
        "version": 3
      },
      "file_extension": ".py",
      "mimetype": "text/x-python",
      "name": "python",
      "nbconvert_exporter": "python",
      "pygments_lexer": "ipython3",
      "version": "3.9.13"
    }
  },
  "nbformat": 4,
  "nbformat_minor": 0
}
